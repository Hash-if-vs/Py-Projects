{
 "cells": [
  {
   "cell_type": "code",
   "execution_count": null,
   "id": "ec9efbbe",
   "metadata": {},
   "outputs": [],
   "source": [
    "def coc():\n",
    "    dfc1=pd.DataFrame()\n",
    "    headers = {'User-Agent': 'User-Agent: Mozilla/5.0 (Windows NT 10.0; Win64; x64) AppleWebKit/537.36 (KHTML, like Gecko) Chrome/111.0.0.0 Safari/537.36'}\n",
    "    req = requests.get(\"https://www.oyorooms.com/hotels-in-kochi/\", headers=headers).text\n",
    "    soup = Soup(req, 'html.parser')\n",
    "    apts = soup.find_all(\"div\", {\"class\": \"oyo-row oyo-row--no-spacing listingHotelDescription\"})\n",
    "    l = []\n",
    "    obj = {}\n",
    "    for a in range(0, len(apts)):\n",
    "        try:\n",
    "            obj[\"pricing\"] = apts[a].find(\"span\", {\"class\": \"listingPrice__finalPrice\"}).text\n",
    "        except: obj[\"pricing\"] = None\n",
    "        try:\n",
    "            obj[\"address\"] = apts[a].find(\"div\", {\"class\": \"d-body-lg listingHotelDescription__hotelAddress\"}).text\n",
    "        except:\n",
    "            obj[\"address\"] = None\n",
    "        l.append(obj)\n",
    "        obj = {}\n",
    "    for i in l:\n",
    "        price = i[\"pricing\"]\n",
    "        address = i[\"address\"]\n",
    "        dfc1 = dfc1.append({\"price\": price,\"address\": address}, ignore_index=True)\n",
    "    dfc2=pd.DataFrame()\n",
    "    for page in range(1,14):\n",
    "        req1 = requests.get(\"https://www.booking.com/searchresults.en-us.html?ss=Cochin&ssne=Cochin&ssne_untouched=Cochin&label=gog235jc-1DCAMobEIGY29jaGluSDNYA2hsiAEBmAExuAEXyAEM2AED6AEB-AECiAIBqAIDuAKryf-hBsACAdICJGNmMmQ1ODhmLTJiYWYtNGQyNS05YzE5LWM2OWQyZjk4OTNmNdgCBOACAQ&sid=98568152db64b2f303d5bb990da98b4c&aid=356980&lang=en-us&sb=1&src_elem=sb&src=searchresults&dest_id=-2093645&dest_type=city&checkin=2023-05-01&checkout=2023-05-02&group_adults=2&no_rooms=1&group_children=0&sb_travel_purpose=leisure/{}_p/\".format(page),headers=headers).text\n",
    "        soup = Soup(req1, 'html.parser')\n",
    "        apts = soup.find_all(\"div\", {\"class\": \"a1b3f50dcd a1f3ecff04 f7c6687c3d f996d8c258\"})\n",
    "        l = []\n",
    "        obj = {}\n",
    "        for a in range(0, len(apts)):\n",
    "            try:\n",
    "                obj[\"pricing\"] = apts[a].find(\"span\", {\"class\": \"fcab3ed991 fbd1d3018c e729ed5ab6\"}).text\n",
    "            except: obj[\"pricing\"] = None\n",
    "            try:\n",
    "                obj[\"address\"] = apts[a].find(\"span\", {\"class\": \"f4bd0794db b4273d69aa\"}).text\n",
    "            except:\n",
    "                obj[\"address\"] = None\n",
    "            l.append(obj)\n",
    "            obj = {}\n",
    "        for i in l:\n",
    "            price = i[\"pricing\"]\n",
    "            address = i[\"address\"]\n",
    "            dfc2 = dfc2.append({\"price\": price,\"address\": address}, ignore_index=True)\n",
    "    df = pd.concat([dfc1, dfc2], ignore_index=True)\n",
    "    df[\"price\"] = df[\"price\"].str.replace(r\"₹\", \"\")\n",
    "    df[\"price\"] = df[\"price\"].str.replace(r\",\", \"\")\n",
    "    df['price'] = df['price'].astype(float)\n",
    "    return df\n",
    "coc()"
   ]
  }
 ],
 "metadata": {
  "kernelspec": {
   "display_name": "Python 3 (ipykernel)",
   "language": "python",
   "name": "python3"
  },
  "language_info": {
   "codemirror_mode": {
    "name": "ipython",
    "version": 3
   },
   "file_extension": ".py",
   "mimetype": "text/x-python",
   "name": "python",
   "nbconvert_exporter": "python",
   "pygments_lexer": "ipython3",
   "version": "3.10.5"
  }
 },
 "nbformat": 4,
 "nbformat_minor": 5
}
